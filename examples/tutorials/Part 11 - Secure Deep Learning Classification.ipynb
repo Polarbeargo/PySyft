{
  "nbformat": 4,
  "nbformat_minor": 0,
  "metadata": {
    "colab": {
      "name": "Part 11 - Secure Deep Learning Classification.ipynb",
      "version": "0.3.2",
      "provenance": [],
      "include_colab_link": true
    },
    "language_info": {
      "codemirror_mode": {
        "name": "ipython",
        "version": 3
      },
      "file_extension": ".py",
      "mimetype": "text/x-python",
      "name": "python",
      "nbconvert_exporter": "python",
      "pygments_lexer": "ipython3",
      "version": "3.6.1"
    },
    "kernelspec": {
      "display_name": "Python 3",
      "language": "python",
      "name": "python3"
    }
  },
  "cells": [
    {
      "cell_type": "markdown",
      "metadata": {
        "id": "view-in-github",
        "colab_type": "text"
      },
      "source": [
        "<a href=\"https://colab.research.google.com/github/Polarbeargo/PySyft/blob/master/examples/tutorials/Part%2011%20-%20Secure%20Deep%20Learning%20Classification.ipynb\" target=\"_parent\"><img src=\"https://colab.research.google.com/assets/colab-badge.svg\" alt=\"Open In Colab\"/></a>"
      ]
    },
    {
      "cell_type": "markdown",
      "metadata": {
        "id": "eBUnBgahzdQL",
        "colab_type": "text"
      },
      "source": [
        "# Part 11 - Secure Deep Learning Classification \n",
        "\n",
        "\n",
        "\n",
        "## Your data matters, your model too\n",
        "\n",
        "Data is the driver behind Machine Learning. Organizations who create and collect data are able to build and train their own machine learning models. This allows them to offer the use of such models as a service (MLaaS) to outside organizations. This is useful as other organizations who might not be able to create these models themselves but who still would like to use this model to make predictions on their own data. \n",
        "\n",
        "However, a model hosted in the cloud still presents a privacy/IP issue. In order for external organizations to use it - they must either upload their input data (such as images to be classified) or download the model. Uploading input data can be problematic from a privacy perspective, but downloading the model might not be an option if the organization who created/owns the model is worried about losing their IP.\n",
        "\n",
        "\n",
        "## Computing over encrypted data\n",
        "\n",
        "In this context, one potential solution is to encrypt both the model and the data in a way which allows one organization to use a model owned by another organization without either disclosing their IP to one another. Several encryption schemes exist that allow for computation over encrypted data, among which Secure Multi-Party Computation (SMPC), Homomorphic Encryption (FHE/SHE) and Functional Encryption (FE) are the most well known types. We will focus here on Secure Multi-Party Computation ([introduced in detail here in tutorial 5](https://github.com/OpenMined/PySyft/blob/dev/examples/tutorials/Part%205%20-%20Intro%20to%20Encrypted%20Programs.ipynb)) which consists of private additive sharing. It relies on crypto protocols such as SecureNN and SPDZ, the details of which are given [in this excellent blog post](https://mortendahl.github.io/2017/09/19/private-image-analysis-with-mpc/). \n",
        "\n",
        "These protocols achieve remarkable performances over encrypted data, and over the past few months we have been working to make these protocols easy to use. Specifically, we're building tools to allow you to use these protocols without having to re-implement the protocol yourself (or even necessarily know the cryptography behind how it works). Let's jump right in.\n",
        "\n",
        "## Set up\n",
        "\n",
        "The exact setting in this tutorial is the following: consider that you are the server and you have some data. First, you define and train a model with this private training data. Then, you get in touch with a client who holds some of their own data who would like to access your model to make some predictions. \n",
        "\n",
        "You encrypt your model (a neural network). The client encrypts their data. You both then use these two encrypted assets to use the model to classify the data. Finally, the result of the prediction is sent back to the client in an encrypted way so that the server (_i.e._ you) learns nothing about the client's data (you learn neither the inputs or the prediction).\n",
        "\n",
        "Ideally we would additively share the `client`'s input between itself and the `server` and vice versa for the model. For the sake of simplicity, the shares will be held by two other workers `alice` and `bob`. If you consider that alice is owned by the client and bob by the server, it's completely equivalent.\n",
        "\n",
        "The computation is secure in the honest-but-curious adversary model which is standard in [many MPC frameworks](https://arxiv.org/pdf/1801.03239.pdf).\n",
        "\n",
        "**We have now everything we need, let's get started!**\n",
        "\n",
        "\n",
        "Author:\n",
        "- Théo Ryffel - Twitter: [@theoryffel](https://twitter.com/theoryffel) · GitHub: [@LaRiffle](https://github.com/LaRiffle)\n",
        "\n",
        "**Let's get started!**"
      ]
    },
    {
      "cell_type": "markdown",
      "metadata": {
        "id": "rKOs-7pRzdQQ",
        "colab_type": "text"
      },
      "source": [
        "### Imports and model specifications"
      ]
    },
    {
      "cell_type": "code",
      "metadata": {
        "id": "CpgKdV3c3hvf",
        "colab_type": "code",
        "colab": {
          "base_uri": "https://localhost:8080/",
          "height": 973
        },
        "outputId": "b0f8613f-ad65-4bd1-9b32-f18d5eee7205"
      },
      "source": [
        "!pip install syft"
      ],
      "execution_count": 15,
      "outputs": [
        {
          "output_type": "stream",
          "text": [
            "Requirement already satisfied: syft in /usr/local/lib/python3.6/dist-packages/syft-0.1.18-py3.6.egg (0.1.18)\n",
            "Requirement already satisfied: Flask>=1.0.2 in /usr/local/lib/python3.6/dist-packages (from syft) (1.0.3)\n",
            "Requirement already satisfied: flask_socketio>=3.3.2 in /usr/local/lib/python3.6/dist-packages/Flask_SocketIO-4.1.0-py3.6.egg (from syft) (4.1.0)\n",
            "Requirement already satisfied: lz4>=2.1.6 in /usr/local/lib/python3.6/dist-packages (from syft) (2.1.10)\n",
            "Collecting msgpack>=0.6.1 (from syft)\n",
            "\u001b[?25l  Downloading https://files.pythonhosted.org/packages/92/7e/ae9e91c1bb8d846efafd1f353476e3fd7309778b582d2fb4cea4cc15b9a2/msgpack-0.6.1-cp36-cp36m-manylinux1_x86_64.whl (248kB)\n",
            "\r\u001b[K     |█▎                              | 10kB 15.3MB/s eta 0:00:01\r\u001b[K     |██▋                             | 20kB 3.2MB/s eta 0:00:01\r\u001b[K     |████                            | 30kB 4.6MB/s eta 0:00:01\r\u001b[K     |█████▎                          | 40kB 3.0MB/s eta 0:00:01\r\u001b[K     |██████▋                         | 51kB 3.6MB/s eta 0:00:01\r\u001b[K     |████████                        | 61kB 4.3MB/s eta 0:00:01\r\u001b[K     |█████████▏                      | 71kB 5.0MB/s eta 0:00:01\r\u001b[K     |██████████▌                     | 81kB 5.6MB/s eta 0:00:01\r\u001b[K     |███████████▉                    | 92kB 6.2MB/s eta 0:00:01\r\u001b[K     |█████████████▏                  | 102kB 4.9MB/s eta 0:00:01\r\u001b[K     |██████████████▌                 | 112kB 4.9MB/s eta 0:00:01\r\u001b[K     |███████████████▉                | 122kB 4.9MB/s eta 0:00:01\r\u001b[K     |█████████████████▏              | 133kB 4.9MB/s eta 0:00:01\r\u001b[K     |██████████████████▍             | 143kB 4.9MB/s eta 0:00:01\r\u001b[K     |███████████████████▊            | 153kB 4.9MB/s eta 0:00:01\r\u001b[K     |█████████████████████           | 163kB 4.9MB/s eta 0:00:01\r\u001b[K     |██████████████████████▍         | 174kB 4.9MB/s eta 0:00:01\r\u001b[K     |███████████████████████▊        | 184kB 4.9MB/s eta 0:00:01\r\u001b[K     |█████████████████████████       | 194kB 4.9MB/s eta 0:00:01\r\u001b[K     |██████████████████████████▍     | 204kB 4.9MB/s eta 0:00:01\r\u001b[K     |███████████████████████████▋    | 215kB 4.9MB/s eta 0:00:01\r\u001b[K     |█████████████████████████████   | 225kB 4.9MB/s eta 0:00:01\r\u001b[K     |██████████████████████████████▎ | 235kB 4.9MB/s eta 0:00:01\r\u001b[K     |███████████████████████████████▋| 245kB 4.9MB/s eta 0:00:01\r\u001b[K     |████████████████████████████████| 256kB 4.9MB/s \n",
            "\u001b[?25hRequirement already satisfied: numpy>=1.14.0 in /usr/local/lib/python3.6/dist-packages (from syft) (1.16.4)\n",
            "Requirement already satisfied: scikit-learn>=0.21.0 in /usr/local/lib/python3.6/dist-packages (from syft) (0.21.2)\n",
            "Requirement already satisfied: tblib>=1.4.0 in /usr/local/lib/python3.6/dist-packages (from syft) (1.4.0)\n",
            "Requirement already satisfied: tf_encrypted>=0.5.4 in /usr/local/lib/python3.6/dist-packages (from syft) (0.5.5)\n",
            "Requirement already satisfied: torch>=1.1 in /usr/local/lib/python3.6/dist-packages (from syft) (1.1.0)\n",
            "Requirement already satisfied: torchvision>=0.3.0 in /usr/local/lib/python3.6/dist-packages (from syft) (0.3.0)\n",
            "Requirement already satisfied: websocket_client>=0.56.0 in /usr/local/lib/python3.6/dist-packages/websocket_client-0.56.0-py3.6.egg (from syft) (0.56.0)\n",
            "Requirement already satisfied: websockets>=7.0 in /usr/local/lib/python3.6/dist-packages (from syft) (7.0)\n",
            "Requirement already satisfied: zstd>=1.4.0.0 in /usr/local/lib/python3.6/dist-packages (from syft) (1.4.0.0)\n",
            "Requirement already satisfied: click>=5.1 in /usr/local/lib/python3.6/dist-packages (from Flask>=1.0.2->syft) (7.0)\n",
            "Requirement already satisfied: Werkzeug>=0.14 in /usr/local/lib/python3.6/dist-packages (from Flask>=1.0.2->syft) (0.15.4)\n",
            "Requirement already satisfied: Jinja2>=2.10 in /usr/local/lib/python3.6/dist-packages (from Flask>=1.0.2->syft) (2.10.1)\n",
            "Requirement already satisfied: itsdangerous>=0.24 in /usr/local/lib/python3.6/dist-packages (from Flask>=1.0.2->syft) (1.1.0)\n",
            "Requirement already satisfied: python-socketio>=2.1.0 in /usr/local/lib/python3.6/dist-packages/python_socketio-4.1.0-py3.6.egg (from flask_socketio>=3.3.2->syft) (4.1.0)\n",
            "Requirement already satisfied: scipy>=0.17.0 in /usr/local/lib/python3.6/dist-packages (from scikit-learn>=0.21.0->syft) (1.3.0)\n",
            "Requirement already satisfied: joblib>=0.11 in /usr/local/lib/python3.6/dist-packages (from scikit-learn>=0.21.0->syft) (0.13.2)\n",
            "Requirement already satisfied: pyyaml>=5.1 in /usr/local/lib/python3.6/dist-packages (from tf_encrypted>=0.5.4->syft) (5.1.1)\n",
            "Requirement already satisfied: tensorflow<2,>=1.12.0 in /usr/local/lib/python3.6/dist-packages (from tf_encrypted>=0.5.4->syft) (1.13.1)\n",
            "Requirement already satisfied: pillow>=4.1.1 in /usr/local/lib/python3.6/dist-packages (from torchvision>=0.3.0->syft) (4.3.0)\n",
            "Requirement already satisfied: six in /usr/local/lib/python3.6/dist-packages (from torchvision>=0.3.0->syft) (1.12.0)\n",
            "Requirement already satisfied: MarkupSafe>=0.23 in /usr/local/lib/python3.6/dist-packages (from Jinja2>=2.10->Flask>=1.0.2->syft) (1.1.1)\n",
            "Requirement already satisfied: python-engineio>=3.8.0 in /usr/local/lib/python3.6/dist-packages/python_engineio-3.8.1-py3.6.egg (from python-socketio>=2.1.0->flask_socketio>=3.3.2->syft) (3.8.1)\n",
            "Requirement already satisfied: astor>=0.6.0 in /usr/local/lib/python3.6/dist-packages (from tensorflow<2,>=1.12.0->tf_encrypted>=0.5.4->syft) (0.8.0)\n",
            "Requirement already satisfied: grpcio>=1.8.6 in /usr/local/lib/python3.6/dist-packages (from tensorflow<2,>=1.12.0->tf_encrypted>=0.5.4->syft) (1.15.0)\n",
            "Requirement already satisfied: protobuf>=3.6.1 in /usr/local/lib/python3.6/dist-packages (from tensorflow<2,>=1.12.0->tf_encrypted>=0.5.4->syft) (3.7.1)\n",
            "Requirement already satisfied: tensorboard<1.14.0,>=1.13.0 in /usr/local/lib/python3.6/dist-packages (from tensorflow<2,>=1.12.0->tf_encrypted>=0.5.4->syft) (1.13.1)\n",
            "Requirement already satisfied: keras-applications>=1.0.6 in /usr/local/lib/python3.6/dist-packages (from tensorflow<2,>=1.12.0->tf_encrypted>=0.5.4->syft) (1.0.8)\n",
            "Requirement already satisfied: keras-preprocessing>=1.0.5 in /usr/local/lib/python3.6/dist-packages (from tensorflow<2,>=1.12.0->tf_encrypted>=0.5.4->syft) (1.1.0)\n",
            "Requirement already satisfied: termcolor>=1.1.0 in /usr/local/lib/python3.6/dist-packages (from tensorflow<2,>=1.12.0->tf_encrypted>=0.5.4->syft) (1.1.0)\n",
            "Requirement already satisfied: wheel>=0.26 in /usr/local/lib/python3.6/dist-packages (from tensorflow<2,>=1.12.0->tf_encrypted>=0.5.4->syft) (0.33.4)\n",
            "Requirement already satisfied: gast>=0.2.0 in /usr/local/lib/python3.6/dist-packages (from tensorflow<2,>=1.12.0->tf_encrypted>=0.5.4->syft) (0.2.2)\n",
            "Requirement already satisfied: absl-py>=0.1.6 in /usr/local/lib/python3.6/dist-packages (from tensorflow<2,>=1.12.0->tf_encrypted>=0.5.4->syft) (0.7.1)\n",
            "Requirement already satisfied: tensorflow-estimator<1.14.0rc0,>=1.13.0 in /usr/local/lib/python3.6/dist-packages (from tensorflow<2,>=1.12.0->tf_encrypted>=0.5.4->syft) (1.13.0)\n",
            "Requirement already satisfied: olefile in /usr/local/lib/python3.6/dist-packages (from pillow>=4.1.1->torchvision>=0.3.0->syft) (0.46)\n",
            "Requirement already satisfied: setuptools in /usr/local/lib/python3.6/dist-packages (from protobuf>=3.6.1->tensorflow<2,>=1.12.0->tf_encrypted>=0.5.4->syft) (41.0.1)\n",
            "Requirement already satisfied: markdown>=2.6.8 in /usr/local/lib/python3.6/dist-packages (from tensorboard<1.14.0,>=1.13.0->tensorflow<2,>=1.12.0->tf_encrypted>=0.5.4->syft) (3.1.1)\n",
            "Requirement already satisfied: h5py in /usr/local/lib/python3.6/dist-packages (from keras-applications>=1.0.6->tensorflow<2,>=1.12.0->tf_encrypted>=0.5.4->syft) (2.8.0)\n",
            "Requirement already satisfied: mock>=2.0.0 in /usr/local/lib/python3.6/dist-packages (from tensorflow-estimator<1.14.0rc0,>=1.13.0->tensorflow<2,>=1.12.0->tf_encrypted>=0.5.4->syft) (3.0.5)\n",
            "Installing collected packages: msgpack\n",
            "  Found existing installation: msgpack 0.5.6\n",
            "    Uninstalling msgpack-0.5.6:\n",
            "      Successfully uninstalled msgpack-0.5.6\n",
            "Successfully installed msgpack-0.6.1\n"
          ],
          "name": "stdout"
        },
        {
          "output_type": "display_data",
          "data": {
            "application/vnd.colab-display-data+json": {
              "pip_warning": {
                "packages": [
                  "msgpack"
                ]
              }
            }
          },
          "metadata": {
            "tags": []
          }
        }
      ]
    },
    {
      "cell_type": "code",
      "metadata": {
        "id": "LRVirSDGzdQS",
        "colab_type": "code",
        "colab": {}
      },
      "source": [
        "import torch\n",
        "import torch.nn as nn\n",
        "import torch.nn.functional as F\n",
        "import torch.optim as optim\n",
        "from torchvision import datasets, transforms"
      ],
      "execution_count": 0,
      "outputs": []
    },
    {
      "cell_type": "markdown",
      "metadata": {
        "id": "aXVcTPFczdQW",
        "colab_type": "text"
      },
      "source": [
        "   We also need to execute commands specific to importing/starting PySyft. We create a few workers (named `client`, `bob`, and `alice`). Lastly, we define the `crypto_provider` who gives all the crypto primitives we may need ([See our tutorial on SMPC for more details](https://github.com/OpenMined/PySyft/blob/dev/examples/tutorials/Part%205%20-%20Intro%20to%20Encrypted%20Programs.ipynb))."
      ]
    },
    {
      "cell_type": "code",
      "metadata": {
        "id": "KXV5wElZzdQW",
        "colab_type": "code",
        "colab": {
          "base_uri": "https://localhost:8080/",
          "height": 34
        },
        "outputId": "1363d6ff-68ed-4614-f6a8-8648dce2b775"
      },
      "source": [
        "import syft as sy\n",
        "hook = sy.TorchHook(torch) \n",
        "client = sy.VirtualWorker(hook, id=\"client\")\n",
        "bob = sy.VirtualWorker(hook, id=\"bob\")\n",
        "alice = sy.VirtualWorker(hook, id=\"alice\")\n",
        "crypto_provider = sy.VirtualWorker(hook, id=\"crypto_provider\") "
      ],
      "execution_count": 17,
      "outputs": [
        {
          "output_type": "stream",
          "text": [
            "WARNING:root:Torch was already hooked... skipping hooking process\n"
          ],
          "name": "stderr"
        }
      ]
    },
    {
      "cell_type": "markdown",
      "metadata": {
        "id": "RJ4v6Z0LzdQY",
        "colab_type": "text"
      },
      "source": [
        "We define the setting of the learning task"
      ]
    },
    {
      "cell_type": "code",
      "metadata": {
        "id": "YvXSQmeDzdQZ",
        "colab_type": "code",
        "colab": {}
      },
      "source": [
        "class Arguments():\n",
        "    def __init__(self):\n",
        "        self.batch_size = 64\n",
        "        self.test_batch_size = 50\n",
        "        self.epochs = 10\n",
        "        self.lr = 0.001\n",
        "        self.log_interval = 100\n",
        "\n",
        "args = Arguments()"
      ],
      "execution_count": 0,
      "outputs": []
    },
    {
      "cell_type": "markdown",
      "metadata": {
        "id": "ni7jda3AzdQb",
        "colab_type": "text"
      },
      "source": [
        "### Data loading and sending to workers\n",
        "\n",
        "In our setting, we assume that the server has access to some data to first train its model. Here is the MNIST training set."
      ]
    },
    {
      "cell_type": "code",
      "metadata": {
        "id": "pHRd7YTrzdQc",
        "colab_type": "code",
        "colab": {}
      },
      "source": [
        "train_loader = torch.utils.data.DataLoader(\n",
        "    datasets.MNIST('../data', train=True, download=True,\n",
        "                   transform=transforms.Compose([\n",
        "                       transforms.ToTensor(),\n",
        "                       transforms.Normalize((0.1307,), (0.3081,))\n",
        "                   ])),\n",
        "    batch_size=args.batch_size, shuffle=True)"
      ],
      "execution_count": 0,
      "outputs": []
    },
    {
      "cell_type": "markdown",
      "metadata": {
        "id": "zvwNvbkyzdQg",
        "colab_type": "text"
      },
      "source": [
        "Second, the client has some data and would like to have predictions on it using the server's model. This client encrypts its data by sharing it additively across two workers `alice` and `bob`.\n",
        "> SMPC uses crypto protocols which require to work on integers. We leverage here the PySyft tensor abstraction to convert PyTorch Float tensors into Fixed Precision Tensors using `.fix_prec()`. For example 0.123 with precision 2 does a rounding at the 2nd decimal digit so the number stored is the integer 12. \n"
      ]
    },
    {
      "cell_type": "code",
      "metadata": {
        "id": "oWLC5M_hzdQh",
        "colab_type": "code",
        "colab": {}
      },
      "source": [
        "test_loader = torch.utils.data.DataLoader(\n",
        "    datasets.MNIST('../data', train=False,\n",
        "                   transform=transforms.Compose([\n",
        "                       transforms.ToTensor(),\n",
        "                       transforms.Normalize((0.1307,), (0.3081,))\n",
        "                   ])),\n",
        "    batch_size=args.test_batch_size, shuffle=True)\n",
        "\n",
        "private_test_loader = []\n",
        "for data, target in test_loader:\n",
        "    private_test_loader.append((\n",
        "        data.fix_precision().share(alice, bob, crypto_provider=crypto_provider),\n",
        "        target.fix_precision().share(alice, bob, crypto_provider=crypto_provider)\n",
        "    ))"
      ],
      "execution_count": 0,
      "outputs": []
    },
    {
      "cell_type": "markdown",
      "metadata": {
        "id": "1vRKqYImzdQk",
        "colab_type": "text"
      },
      "source": [
        "### Feed Forward Neural Network specification\n",
        "Here is the network specification used by the server"
      ]
    },
    {
      "cell_type": "code",
      "metadata": {
        "id": "r-WtVa9jzdQl",
        "colab_type": "code",
        "colab": {}
      },
      "source": [
        "class Net(nn.Module):\n",
        "    def __init__(self):\n",
        "        super(Net, self).__init__()\n",
        "        self.fc1 = nn.Linear(784, 500)\n",
        "        self.fc2 = nn.Linear(500, 10)\n",
        "\n",
        "    def forward(self, x):\n",
        "        x = x.view(-1, 784)\n",
        "        x = self.fc1(x)\n",
        "        x = F.relu(x)\n",
        "        x = self.fc2(x)\n",
        "        return x"
      ],
      "execution_count": 0,
      "outputs": []
    },
    {
      "cell_type": "markdown",
      "metadata": {
        "id": "d4pUat32zdQn",
        "colab_type": "text"
      },
      "source": [
        "### Launch the training\n",
        "The training is done locally so this is pure local PyTorch training, nothing special here!"
      ]
    },
    {
      "cell_type": "code",
      "metadata": {
        "id": "d9r7fZUAzdQo",
        "colab_type": "code",
        "colab": {}
      },
      "source": [
        "def train(args, model, train_loader, optimizer, epoch):\n",
        "    model.train()\n",
        "    for batch_idx, (data, target) in enumerate(train_loader):\n",
        "        optimizer.zero_grad()\n",
        "        output = model(data)\n",
        "        output = F.log_softmax(output, dim=1)\n",
        "        loss = F.nll_loss(output, target)\n",
        "        loss.backward()\n",
        "        optimizer.step()\n",
        "        if batch_idx % args.log_interval == 0:\n",
        "            print('Train Epoch: {} [{}/{} ({:.0f}%)]\\tLoss: {:.6f}'.format(\n",
        "                epoch, batch_idx * args.batch_size, len(train_loader) * args.batch_size,\n",
        "                100. * batch_idx / len(train_loader), loss.item()))"
      ],
      "execution_count": 0,
      "outputs": []
    },
    {
      "cell_type": "code",
      "metadata": {
        "scrolled": true,
        "id": "w5qM61HlzdQr",
        "colab_type": "code",
        "colab": {
          "base_uri": "https://localhost:8080/",
          "height": 1717
        },
        "outputId": "38c07067-e422-4a31-e7e5-dfba78cd0b9a"
      },
      "source": [
        "model = Net()\n",
        "optimizer = torch.optim.Adam(model.parameters(), lr=args.lr)\n",
        "\n",
        "for epoch in range(1, args.epochs + 1):\n",
        "    train(args, model, train_loader, optimizer, epoch)\n"
      ],
      "execution_count": 23,
      "outputs": [
        {
          "output_type": "stream",
          "text": [
            "Train Epoch: 1 [0/60032 (0%)]\tLoss: 2.301620\n",
            "Train Epoch: 1 [6400/60032 (11%)]\tLoss: 0.338584\n",
            "Train Epoch: 1 [12800/60032 (21%)]\tLoss: 0.200787\n",
            "Train Epoch: 1 [19200/60032 (32%)]\tLoss: 0.104812\n",
            "Train Epoch: 1 [25600/60032 (43%)]\tLoss: 0.080717\n",
            "Train Epoch: 1 [32000/60032 (53%)]\tLoss: 0.274240\n",
            "Train Epoch: 1 [38400/60032 (64%)]\tLoss: 0.172714\n",
            "Train Epoch: 1 [44800/60032 (75%)]\tLoss: 0.242167\n",
            "Train Epoch: 1 [51200/60032 (85%)]\tLoss: 0.187358\n",
            "Train Epoch: 1 [57600/60032 (96%)]\tLoss: 0.091866\n",
            "Train Epoch: 2 [0/60032 (0%)]\tLoss: 0.055277\n",
            "Train Epoch: 2 [6400/60032 (11%)]\tLoss: 0.039588\n",
            "Train Epoch: 2 [12800/60032 (21%)]\tLoss: 0.027089\n",
            "Train Epoch: 2 [19200/60032 (32%)]\tLoss: 0.086903\n",
            "Train Epoch: 2 [25600/60032 (43%)]\tLoss: 0.049464\n",
            "Train Epoch: 2 [32000/60032 (53%)]\tLoss: 0.029554\n",
            "Train Epoch: 2 [38400/60032 (64%)]\tLoss: 0.072024\n",
            "Train Epoch: 2 [44800/60032 (75%)]\tLoss: 0.046881\n",
            "Train Epoch: 2 [51200/60032 (85%)]\tLoss: 0.031379\n",
            "Train Epoch: 2 [57600/60032 (96%)]\tLoss: 0.004282\n",
            "Train Epoch: 3 [0/60032 (0%)]\tLoss: 0.088206\n",
            "Train Epoch: 3 [6400/60032 (11%)]\tLoss: 0.023956\n",
            "Train Epoch: 3 [12800/60032 (21%)]\tLoss: 0.004383\n",
            "Train Epoch: 3 [19200/60032 (32%)]\tLoss: 0.051185\n",
            "Train Epoch: 3 [25600/60032 (43%)]\tLoss: 0.043596\n",
            "Train Epoch: 3 [32000/60032 (53%)]\tLoss: 0.026004\n",
            "Train Epoch: 3 [38400/60032 (64%)]\tLoss: 0.011287\n",
            "Train Epoch: 3 [44800/60032 (75%)]\tLoss: 0.084527\n",
            "Train Epoch: 3 [51200/60032 (85%)]\tLoss: 0.024597\n",
            "Train Epoch: 3 [57600/60032 (96%)]\tLoss: 0.009034\n",
            "Train Epoch: 4 [0/60032 (0%)]\tLoss: 0.025354\n",
            "Train Epoch: 4 [6400/60032 (11%)]\tLoss: 0.037477\n",
            "Train Epoch: 4 [12800/60032 (21%)]\tLoss: 0.018316\n",
            "Train Epoch: 4 [19200/60032 (32%)]\tLoss: 0.044420\n",
            "Train Epoch: 4 [25600/60032 (43%)]\tLoss: 0.044561\n",
            "Train Epoch: 4 [32000/60032 (53%)]\tLoss: 0.026767\n",
            "Train Epoch: 4 [38400/60032 (64%)]\tLoss: 0.026322\n",
            "Train Epoch: 4 [44800/60032 (75%)]\tLoss: 0.056786\n",
            "Train Epoch: 4 [51200/60032 (85%)]\tLoss: 0.028077\n",
            "Train Epoch: 4 [57600/60032 (96%)]\tLoss: 0.033582\n",
            "Train Epoch: 5 [0/60032 (0%)]\tLoss: 0.031244\n",
            "Train Epoch: 5 [6400/60032 (11%)]\tLoss: 0.001221\n",
            "Train Epoch: 5 [12800/60032 (21%)]\tLoss: 0.013521\n",
            "Train Epoch: 5 [19200/60032 (32%)]\tLoss: 0.024696\n",
            "Train Epoch: 5 [25600/60032 (43%)]\tLoss: 0.005570\n",
            "Train Epoch: 5 [32000/60032 (53%)]\tLoss: 0.014669\n",
            "Train Epoch: 5 [38400/60032 (64%)]\tLoss: 0.010382\n",
            "Train Epoch: 5 [44800/60032 (75%)]\tLoss: 0.030228\n",
            "Train Epoch: 5 [51200/60032 (85%)]\tLoss: 0.057053\n",
            "Train Epoch: 5 [57600/60032 (96%)]\tLoss: 0.001865\n",
            "Train Epoch: 6 [0/60032 (0%)]\tLoss: 0.008959\n",
            "Train Epoch: 6 [6400/60032 (11%)]\tLoss: 0.012363\n",
            "Train Epoch: 6 [12800/60032 (21%)]\tLoss: 0.001456\n",
            "Train Epoch: 6 [19200/60032 (32%)]\tLoss: 0.037421\n",
            "Train Epoch: 6 [25600/60032 (43%)]\tLoss: 0.000538\n",
            "Train Epoch: 6 [32000/60032 (53%)]\tLoss: 0.001017\n",
            "Train Epoch: 6 [38400/60032 (64%)]\tLoss: 0.006254\n",
            "Train Epoch: 6 [44800/60032 (75%)]\tLoss: 0.061651\n",
            "Train Epoch: 6 [51200/60032 (85%)]\tLoss: 0.010171\n",
            "Train Epoch: 6 [57600/60032 (96%)]\tLoss: 0.012027\n",
            "Train Epoch: 7 [0/60032 (0%)]\tLoss: 0.025589\n",
            "Train Epoch: 7 [6400/60032 (11%)]\tLoss: 0.001030\n",
            "Train Epoch: 7 [12800/60032 (21%)]\tLoss: 0.043174\n",
            "Train Epoch: 7 [19200/60032 (32%)]\tLoss: 0.003529\n",
            "Train Epoch: 7 [25600/60032 (43%)]\tLoss: 0.145635\n",
            "Train Epoch: 7 [32000/60032 (53%)]\tLoss: 0.007874\n",
            "Train Epoch: 7 [38400/60032 (64%)]\tLoss: 0.010098\n",
            "Train Epoch: 7 [44800/60032 (75%)]\tLoss: 0.005841\n",
            "Train Epoch: 7 [51200/60032 (85%)]\tLoss: 0.022647\n",
            "Train Epoch: 7 [57600/60032 (96%)]\tLoss: 0.076524\n",
            "Train Epoch: 8 [0/60032 (0%)]\tLoss: 0.028369\n",
            "Train Epoch: 8 [6400/60032 (11%)]\tLoss: 0.021603\n",
            "Train Epoch: 8 [12800/60032 (21%)]\tLoss: 0.000214\n",
            "Train Epoch: 8 [19200/60032 (32%)]\tLoss: 0.024433\n",
            "Train Epoch: 8 [25600/60032 (43%)]\tLoss: 0.000304\n",
            "Train Epoch: 8 [32000/60032 (53%)]\tLoss: 0.013711\n",
            "Train Epoch: 8 [38400/60032 (64%)]\tLoss: 0.003625\n",
            "Train Epoch: 8 [44800/60032 (75%)]\tLoss: 0.005117\n",
            "Train Epoch: 8 [51200/60032 (85%)]\tLoss: 0.045361\n",
            "Train Epoch: 8 [57600/60032 (96%)]\tLoss: 0.044867\n",
            "Train Epoch: 9 [0/60032 (0%)]\tLoss: 0.000442\n",
            "Train Epoch: 9 [6400/60032 (11%)]\tLoss: 0.001241\n",
            "Train Epoch: 9 [12800/60032 (21%)]\tLoss: 0.001004\n",
            "Train Epoch: 9 [19200/60032 (32%)]\tLoss: 0.023240\n",
            "Train Epoch: 9 [25600/60032 (43%)]\tLoss: 0.005016\n",
            "Train Epoch: 9 [32000/60032 (53%)]\tLoss: 0.010468\n",
            "Train Epoch: 9 [38400/60032 (64%)]\tLoss: 0.003653\n",
            "Train Epoch: 9 [44800/60032 (75%)]\tLoss: 0.088934\n",
            "Train Epoch: 9 [51200/60032 (85%)]\tLoss: 0.047123\n",
            "Train Epoch: 9 [57600/60032 (96%)]\tLoss: 0.003431\n",
            "Train Epoch: 10 [0/60032 (0%)]\tLoss: 0.001701\n",
            "Train Epoch: 10 [6400/60032 (11%)]\tLoss: 0.010095\n",
            "Train Epoch: 10 [12800/60032 (21%)]\tLoss: 0.002166\n",
            "Train Epoch: 10 [19200/60032 (32%)]\tLoss: 0.029785\n",
            "Train Epoch: 10 [25600/60032 (43%)]\tLoss: 0.002891\n",
            "Train Epoch: 10 [32000/60032 (53%)]\tLoss: 0.000204\n",
            "Train Epoch: 10 [38400/60032 (64%)]\tLoss: 0.001590\n",
            "Train Epoch: 10 [44800/60032 (75%)]\tLoss: 0.046922\n",
            "Train Epoch: 10 [51200/60032 (85%)]\tLoss: 0.066133\n",
            "Train Epoch: 10 [57600/60032 (96%)]\tLoss: 0.033409\n"
          ],
          "name": "stdout"
        }
      ]
    },
    {
      "cell_type": "code",
      "metadata": {
        "id": "acLkmkQgzdQy",
        "colab_type": "code",
        "colab": {}
      },
      "source": [
        "def test(args, model, test_loader):\n",
        "    model.eval()\n",
        "    test_loss = 0\n",
        "    correct = 0\n",
        "    with torch.no_grad():\n",
        "        for data, target in test_loader:\n",
        "            output = model(data)\n",
        "            output = F.log_softmax(output, dim=1)\n",
        "            test_loss += F.nll_loss(output, target, reduction='sum').item() # sum up batch loss\n",
        "            pred = output.argmax(1, keepdim=True) # get the index of the max log-probability \n",
        "            correct += pred.eq(target.view_as(pred)).sum().item()\n",
        "\n",
        "    test_loss /= len(test_loader.dataset)\n",
        "\n",
        "    print('\\nTest set: Average loss: {:.4f}, Accuracy: {}/{} ({:.0f}%)\\n'.format(\n",
        "        test_loss, correct, len(test_loader.dataset),\n",
        "        100. * correct / len(test_loader.dataset)))"
      ],
      "execution_count": 0,
      "outputs": []
    },
    {
      "cell_type": "code",
      "metadata": {
        "id": "2aS2PFizzdQ1",
        "colab_type": "code",
        "colab": {
          "base_uri": "https://localhost:8080/",
          "height": 68
        },
        "outputId": "9b398e97-bb16-43ce-ef58-51c8970e1f52"
      },
      "source": [
        "test(args, model, test_loader)"
      ],
      "execution_count": 25,
      "outputs": [
        {
          "output_type": "stream",
          "text": [
            "\n",
            "Test set: Average loss: 0.0966, Accuracy: 9790/10000 (98%)\n",
            "\n"
          ],
          "name": "stdout"
        }
      ]
    },
    {
      "cell_type": "markdown",
      "metadata": {
        "id": "GfDqk_4MzdQ4",
        "colab_type": "text"
      },
      "source": [
        "Our model is now trained and ready to be provided as a service!"
      ]
    },
    {
      "cell_type": "markdown",
      "metadata": {
        "id": "90Fwvf3uzdQ5",
        "colab_type": "text"
      },
      "source": [
        "## Secure evaluation"
      ]
    },
    {
      "cell_type": "markdown",
      "metadata": {
        "id": "d4J-eMwAzdQ6",
        "colab_type": "text"
      },
      "source": [
        "Now, as the server, we send the model to the workers holding the data. Because the model is sensitive information (you've spent time optimizing it!), you don't want to disclose its weights so you secret share the model just like we did with the dataset earlier."
      ]
    },
    {
      "cell_type": "code",
      "metadata": {
        "id": "xjjLDS4MzdQ7",
        "colab_type": "code",
        "colab": {
          "base_uri": "https://localhost:8080/",
          "height": 85
        },
        "outputId": "d426a126-15cf-478d-f231-b1902ad05d83"
      },
      "source": [
        "model.fix_precision().share(alice, bob, crypto_provider=crypto_provider)"
      ],
      "execution_count": 26,
      "outputs": [
        {
          "output_type": "execute_result",
          "data": {
            "text/plain": [
              "Net(\n",
              "  (fc1): Linear(in_features=784, out_features=500, bias=True)\n",
              "  (fc2): Linear(in_features=500, out_features=10, bias=True)\n",
              ")"
            ]
          },
          "metadata": {
            "tags": []
          },
          "execution_count": 26
        }
      ]
    },
    {
      "cell_type": "markdown",
      "metadata": {
        "id": "gW5IguEjzdQ-",
        "colab_type": "text"
      },
      "source": [
        "This test function performs the encrypted evaluation. The model weights, the data inputs, the prediction and the target used for scoring are encrypted!\n",
        "\n",
        "However, the syntax is very similar to pure PyTorch testing of a model, isn't it nice?!\n",
        "\n",
        "The only thing we decrypt from the server side is the final score at the end to verify predictions were on average good."
      ]
    },
    {
      "cell_type": "code",
      "metadata": {
        "id": "dHpA2tgrzdQ_",
        "colab_type": "code",
        "colab": {}
      },
      "source": [
        "def test(args, model, test_loader):\n",
        "    model.eval()\n",
        "    n_correct_priv = 0\n",
        "    n_total = 0\n",
        "    with torch.no_grad():\n",
        "        for data, target in test_loader:\n",
        "            output = model(data)\n",
        "            pred = output.argmax(dim=1) \n",
        "            n_correct_priv += pred.eq(target.view_as(pred)).sum()\n",
        "            n_total += args.test_batch_size\n",
        "#       The following test function performs the encrypted evaluation. The model weights, the data inputs, the prediction and the target used for scoring are all encrypted!\n",
        "\n",
        "# However as you can observe, the syntax is very similar to normal PyTorch testing! Nice!\n",
        "\n",
        "# The only thing we decrypt from the server side is the final score at the end of our 200 items batches to verify predictions were on average good.      \n",
        "            n_correct = n_correct_priv.copy().get().float_precision().long().item()\n",
        "    \n",
        "            print('Test set: Accuracy: {}/{} ({:.0f}%)'.format(\n",
        "                n_correct, n_total,\n",
        "                100. * n_correct / n_total))\n"
      ],
      "execution_count": 0,
      "outputs": []
    },
    {
      "cell_type": "code",
      "metadata": {
        "id": "mjHf2NgvzdRE",
        "colab_type": "code",
        "colab": {
          "base_uri": "https://localhost:8080/",
          "height": 6817
        },
        "outputId": "bcece69e-b7dc-4446-bca6-cdf1e877d854"
      },
      "source": [
        "test(args, model, private_test_loader)"
      ],
      "execution_count": 28,
      "outputs": [
        {
          "output_type": "stream",
          "text": [
            "Test set: Accuracy: 50/50 (100%)\n",
            "Test set: Accuracy: 98/100 (98%)\n",
            "Test set: Accuracy: 146/150 (97%)\n",
            "Test set: Accuracy: 196/200 (98%)\n",
            "Test set: Accuracy: 245/250 (98%)\n",
            "Test set: Accuracy: 295/300 (98%)\n",
            "Test set: Accuracy: 345/350 (99%)\n",
            "Test set: Accuracy: 395/400 (99%)\n",
            "Test set: Accuracy: 444/450 (99%)\n",
            "Test set: Accuracy: 493/500 (99%)\n",
            "Test set: Accuracy: 543/550 (99%)\n",
            "Test set: Accuracy: 592/600 (99%)\n",
            "Test set: Accuracy: 640/650 (98%)\n",
            "Test set: Accuracy: 689/700 (98%)\n",
            "Test set: Accuracy: 737/750 (98%)\n",
            "Test set: Accuracy: 787/800 (98%)\n",
            "Test set: Accuracy: 837/850 (98%)\n",
            "Test set: Accuracy: 886/900 (98%)\n",
            "Test set: Accuracy: 935/950 (98%)\n",
            "Test set: Accuracy: 985/1000 (98%)\n",
            "Test set: Accuracy: 1035/1050 (99%)\n",
            "Test set: Accuracy: 1083/1100 (98%)\n",
            "Test set: Accuracy: 1133/1150 (99%)\n",
            "Test set: Accuracy: 1183/1200 (99%)\n",
            "Test set: Accuracy: 1232/1250 (99%)\n",
            "Test set: Accuracy: 1280/1300 (98%)\n",
            "Test set: Accuracy: 1330/1350 (99%)\n",
            "Test set: Accuracy: 1380/1400 (99%)\n",
            "Test set: Accuracy: 1430/1450 (99%)\n",
            "Test set: Accuracy: 1479/1500 (99%)\n",
            "Test set: Accuracy: 1526/1550 (98%)\n",
            "Test set: Accuracy: 1574/1600 (98%)\n",
            "Test set: Accuracy: 1623/1650 (98%)\n",
            "Test set: Accuracy: 1672/1700 (98%)\n",
            "Test set: Accuracy: 1721/1750 (98%)\n",
            "Test set: Accuracy: 1771/1800 (98%)\n",
            "Test set: Accuracy: 1821/1850 (98%)\n",
            "Test set: Accuracy: 1870/1900 (98%)\n",
            "Test set: Accuracy: 1920/1950 (98%)\n",
            "Test set: Accuracy: 1970/2000 (98%)\n",
            "Test set: Accuracy: 2020/2050 (99%)\n",
            "Test set: Accuracy: 2067/2100 (98%)\n",
            "Test set: Accuracy: 2117/2150 (98%)\n",
            "Test set: Accuracy: 2167/2200 (98%)\n",
            "Test set: Accuracy: 2216/2250 (98%)\n",
            "Test set: Accuracy: 2265/2300 (98%)\n",
            "Test set: Accuracy: 2314/2350 (98%)\n",
            "Test set: Accuracy: 2364/2400 (98%)\n",
            "Test set: Accuracy: 2413/2450 (98%)\n",
            "Test set: Accuracy: 2460/2500 (98%)\n",
            "Test set: Accuracy: 2509/2550 (98%)\n",
            "Test set: Accuracy: 2559/2600 (98%)\n",
            "Test set: Accuracy: 2607/2650 (98%)\n",
            "Test set: Accuracy: 2654/2700 (98%)\n",
            "Test set: Accuracy: 2704/2750 (98%)\n",
            "Test set: Accuracy: 2753/2800 (98%)\n",
            "Test set: Accuracy: 2803/2850 (98%)\n",
            "Test set: Accuracy: 2853/2900 (98%)\n",
            "Test set: Accuracy: 2902/2950 (98%)\n",
            "Test set: Accuracy: 2952/3000 (98%)\n",
            "Test set: Accuracy: 3002/3050 (98%)\n",
            "Test set: Accuracy: 3052/3100 (98%)\n",
            "Test set: Accuracy: 3101/3150 (98%)\n",
            "Test set: Accuracy: 3150/3200 (98%)\n",
            "Test set: Accuracy: 3199/3250 (98%)\n",
            "Test set: Accuracy: 3248/3300 (98%)\n",
            "Test set: Accuracy: 3298/3350 (98%)\n",
            "Test set: Accuracy: 3348/3400 (98%)\n",
            "Test set: Accuracy: 3397/3450 (98%)\n",
            "Test set: Accuracy: 3447/3500 (98%)\n",
            "Test set: Accuracy: 3496/3550 (98%)\n",
            "Test set: Accuracy: 3546/3600 (98%)\n",
            "Test set: Accuracy: 3595/3650 (98%)\n",
            "Test set: Accuracy: 3644/3700 (98%)\n",
            "Test set: Accuracy: 3693/3750 (98%)\n",
            "Test set: Accuracy: 3742/3800 (98%)\n",
            "Test set: Accuracy: 3791/3850 (98%)\n",
            "Test set: Accuracy: 3841/3900 (98%)\n",
            "Test set: Accuracy: 3891/3950 (99%)\n",
            "Test set: Accuracy: 3941/4000 (99%)\n",
            "Test set: Accuracy: 3989/4050 (98%)\n",
            "Test set: Accuracy: 4038/4100 (98%)\n",
            "Test set: Accuracy: 4084/4150 (98%)\n",
            "Test set: Accuracy: 4134/4200 (98%)\n",
            "Test set: Accuracy: 4181/4250 (98%)\n",
            "Test set: Accuracy: 4231/4300 (98%)\n",
            "Test set: Accuracy: 4278/4350 (98%)\n",
            "Test set: Accuracy: 4326/4400 (98%)\n",
            "Test set: Accuracy: 4374/4450 (98%)\n",
            "Test set: Accuracy: 4423/4500 (98%)\n",
            "Test set: Accuracy: 4472/4550 (98%)\n",
            "Test set: Accuracy: 4519/4600 (98%)\n",
            "Test set: Accuracy: 4569/4650 (98%)\n",
            "Test set: Accuracy: 4618/4700 (98%)\n",
            "Test set: Accuracy: 4668/4750 (98%)\n",
            "Test set: Accuracy: 4714/4800 (98%)\n",
            "Test set: Accuracy: 4763/4850 (98%)\n",
            "Test set: Accuracy: 4812/4900 (98%)\n",
            "Test set: Accuracy: 4862/4950 (98%)\n",
            "Test set: Accuracy: 4910/5000 (98%)\n",
            "Test set: Accuracy: 4959/5050 (98%)\n",
            "Test set: Accuracy: 5009/5100 (98%)\n",
            "Test set: Accuracy: 5058/5150 (98%)\n",
            "Test set: Accuracy: 5106/5200 (98%)\n",
            "Test set: Accuracy: 5156/5250 (98%)\n",
            "Test set: Accuracy: 5205/5300 (98%)\n",
            "Test set: Accuracy: 5255/5350 (98%)\n",
            "Test set: Accuracy: 5305/5400 (98%)\n",
            "Test set: Accuracy: 5354/5450 (98%)\n",
            "Test set: Accuracy: 5404/5500 (98%)\n",
            "Test set: Accuracy: 5451/5550 (98%)\n",
            "Test set: Accuracy: 5500/5600 (98%)\n",
            "Test set: Accuracy: 5550/5650 (98%)\n",
            "Test set: Accuracy: 5599/5700 (98%)\n",
            "Test set: Accuracy: 5647/5750 (98%)\n",
            "Test set: Accuracy: 5695/5800 (98%)\n",
            "Test set: Accuracy: 5745/5850 (98%)\n",
            "Test set: Accuracy: 5795/5900 (98%)\n",
            "Test set: Accuracy: 5844/5950 (98%)\n",
            "Test set: Accuracy: 5891/6000 (98%)\n",
            "Test set: Accuracy: 5941/6050 (98%)\n",
            "Test set: Accuracy: 5991/6100 (98%)\n",
            "Test set: Accuracy: 6039/6150 (98%)\n",
            "Test set: Accuracy: 6086/6200 (98%)\n",
            "Test set: Accuracy: 6132/6250 (98%)\n",
            "Test set: Accuracy: 6181/6300 (98%)\n",
            "Test set: Accuracy: 6230/6350 (98%)\n",
            "Test set: Accuracy: 6279/6400 (98%)\n",
            "Test set: Accuracy: 6329/6450 (98%)\n",
            "Test set: Accuracy: 6379/6500 (98%)\n",
            "Test set: Accuracy: 6428/6550 (98%)\n",
            "Test set: Accuracy: 6478/6600 (98%)\n",
            "Test set: Accuracy: 6527/6650 (98%)\n",
            "Test set: Accuracy: 6575/6700 (98%)\n",
            "Test set: Accuracy: 6623/6750 (98%)\n",
            "Test set: Accuracy: 6673/6800 (98%)\n",
            "Test set: Accuracy: 6723/6850 (98%)\n",
            "Test set: Accuracy: 6773/6900 (98%)\n",
            "Test set: Accuracy: 6821/6950 (98%)\n",
            "Test set: Accuracy: 6871/7000 (98%)\n",
            "Test set: Accuracy: 6918/7050 (98%)\n",
            "Test set: Accuracy: 6967/7100 (98%)\n",
            "Test set: Accuracy: 7017/7150 (98%)\n",
            "Test set: Accuracy: 7065/7200 (98%)\n",
            "Test set: Accuracy: 7114/7250 (98%)\n",
            "Test set: Accuracy: 7163/7300 (98%)\n",
            "Test set: Accuracy: 7213/7350 (98%)\n",
            "Test set: Accuracy: 7262/7400 (98%)\n",
            "Test set: Accuracy: 7312/7450 (98%)\n",
            "Test set: Accuracy: 7362/7500 (98%)\n",
            "Test set: Accuracy: 7411/7550 (98%)\n",
            "Test set: Accuracy: 7461/7600 (98%)\n",
            "Test set: Accuracy: 7511/7650 (98%)\n",
            "Test set: Accuracy: 7561/7700 (98%)\n",
            "Test set: Accuracy: 7610/7750 (98%)\n",
            "Test set: Accuracy: 7658/7800 (98%)\n",
            "Test set: Accuracy: 7707/7850 (98%)\n",
            "Test set: Accuracy: 7756/7900 (98%)\n",
            "Test set: Accuracy: 7804/7950 (98%)\n",
            "Test set: Accuracy: 7851/8000 (98%)\n",
            "Test set: Accuracy: 7900/8050 (98%)\n",
            "Test set: Accuracy: 7948/8100 (98%)\n",
            "Test set: Accuracy: 7997/8150 (98%)\n",
            "Test set: Accuracy: 8044/8200 (98%)\n",
            "Test set: Accuracy: 8094/8250 (98%)\n",
            "Test set: Accuracy: 8143/8300 (98%)\n",
            "Test set: Accuracy: 8190/8350 (98%)\n",
            "Test set: Accuracy: 8240/8400 (98%)\n",
            "Test set: Accuracy: 8289/8450 (98%)\n",
            "Test set: Accuracy: 8338/8500 (98%)\n",
            "Test set: Accuracy: 8386/8550 (98%)\n",
            "Test set: Accuracy: 8436/8600 (98%)\n",
            "Test set: Accuracy: 8484/8650 (98%)\n",
            "Test set: Accuracy: 8533/8700 (98%)\n",
            "Test set: Accuracy: 8583/8750 (98%)\n",
            "Test set: Accuracy: 8632/8800 (98%)\n",
            "Test set: Accuracy: 8679/8850 (98%)\n",
            "Test set: Accuracy: 8729/8900 (98%)\n",
            "Test set: Accuracy: 8778/8950 (98%)\n",
            "Test set: Accuracy: 8826/9000 (98%)\n",
            "Test set: Accuracy: 8875/9050 (98%)\n",
            "Test set: Accuracy: 8925/9100 (98%)\n",
            "Test set: Accuracy: 8973/9150 (98%)\n",
            "Test set: Accuracy: 9020/9200 (98%)\n",
            "Test set: Accuracy: 9070/9250 (98%)\n",
            "Test set: Accuracy: 9120/9300 (98%)\n",
            "Test set: Accuracy: 9169/9350 (98%)\n",
            "Test set: Accuracy: 9219/9400 (98%)\n",
            "Test set: Accuracy: 9269/9450 (98%)\n",
            "Test set: Accuracy: 9318/9500 (98%)\n",
            "Test set: Accuracy: 9367/9550 (98%)\n",
            "Test set: Accuracy: 9416/9600 (98%)\n",
            "Test set: Accuracy: 9465/9650 (98%)\n",
            "Test set: Accuracy: 9512/9700 (98%)\n",
            "Test set: Accuracy: 9560/9750 (98%)\n",
            "Test set: Accuracy: 9610/9800 (98%)\n",
            "Test set: Accuracy: 9659/9850 (98%)\n",
            "Test set: Accuracy: 9709/9900 (98%)\n",
            "Test set: Accuracy: 9758/9950 (98%)\n",
            "Test set: Accuracy: 9808/10000 (98%)\n",
            "Test set: Accuracy: 49/50 (98%)\n",
            "Test set: Accuracy: 98/100 (98%)\n",
            "Test set: Accuracy: 148/150 (99%)\n",
            "Test set: Accuracy: 197/200 (98%)\n",
            "Test set: Accuracy: 245/250 (98%)\n",
            "Test set: Accuracy: 295/300 (98%)\n",
            "Test set: Accuracy: 345/350 (99%)\n",
            "Test set: Accuracy: 393/400 (98%)\n",
            "Test set: Accuracy: 443/450 (98%)\n",
            "Test set: Accuracy: 492/500 (98%)\n",
            "Test set: Accuracy: 542/550 (99%)\n",
            "Test set: Accuracy: 590/600 (98%)\n",
            "Test set: Accuracy: 637/650 (98%)\n",
            "Test set: Accuracy: 687/700 (98%)\n",
            "Test set: Accuracy: 736/750 (98%)\n",
            "Test set: Accuracy: 786/800 (98%)\n",
            "Test set: Accuracy: 835/850 (98%)\n",
            "Test set: Accuracy: 885/900 (98%)\n",
            "Test set: Accuracy: 934/950 (98%)\n",
            "Test set: Accuracy: 982/1000 (98%)\n",
            "Test set: Accuracy: 1032/1050 (98%)\n",
            "Test set: Accuracy: 1082/1100 (98%)\n",
            "Test set: Accuracy: 1132/1150 (98%)\n",
            "Test set: Accuracy: 1181/1200 (98%)\n",
            "Test set: Accuracy: 1231/1250 (98%)\n",
            "Test set: Accuracy: 1281/1300 (99%)\n",
            "Test set: Accuracy: 1329/1350 (98%)\n",
            "Test set: Accuracy: 1379/1400 (98%)\n",
            "Test set: Accuracy: 1425/1450 (98%)\n",
            "Test set: Accuracy: 1473/1500 (98%)\n",
            "Test set: Accuracy: 1522/1550 (98%)\n",
            "Test set: Accuracy: 1572/1600 (98%)\n",
            "Test set: Accuracy: 1622/1650 (98%)\n",
            "Test set: Accuracy: 1672/1700 (98%)\n",
            "Test set: Accuracy: 1721/1750 (98%)\n",
            "Test set: Accuracy: 1771/1800 (98%)\n",
            "Test set: Accuracy: 1820/1850 (98%)\n",
            "Test set: Accuracy: 1870/1900 (98%)\n",
            "Test set: Accuracy: 1919/1950 (98%)\n",
            "Test set: Accuracy: 1968/2000 (98%)\n",
            "Test set: Accuracy: 2017/2050 (98%)\n",
            "Test set: Accuracy: 2065/2100 (98%)\n",
            "Test set: Accuracy: 2114/2150 (98%)\n",
            "Test set: Accuracy: 2163/2200 (98%)\n",
            "Test set: Accuracy: 2212/2250 (98%)\n",
            "Test set: Accuracy: 2262/2300 (98%)\n",
            "Test set: Accuracy: 2312/2350 (98%)\n",
            "Test set: Accuracy: 2360/2400 (98%)\n",
            "Test set: Accuracy: 2409/2450 (98%)\n",
            "Test set: Accuracy: 2457/2500 (98%)\n",
            "Test set: Accuracy: 2506/2550 (98%)\n",
            "Test set: Accuracy: 2553/2600 (98%)\n",
            "Test set: Accuracy: 2603/2650 (98%)\n",
            "Test set: Accuracy: 2651/2700 (98%)\n",
            "Test set: Accuracy: 2701/2750 (98%)\n",
            "Test set: Accuracy: 2751/2800 (98%)\n",
            "Test set: Accuracy: 2800/2850 (98%)\n",
            "Test set: Accuracy: 2849/2900 (98%)\n",
            "Test set: Accuracy: 2899/2950 (98%)\n",
            "Test set: Accuracy: 2947/3000 (98%)\n",
            "Test set: Accuracy: 2996/3050 (98%)\n",
            "Test set: Accuracy: 3043/3100 (98%)\n",
            "Test set: Accuracy: 3092/3150 (98%)\n",
            "Test set: Accuracy: 3138/3200 (98%)\n",
            "Test set: Accuracy: 3187/3250 (98%)\n",
            "Test set: Accuracy: 3237/3300 (98%)\n",
            "Test set: Accuracy: 3286/3350 (98%)\n",
            "Test set: Accuracy: 3336/3400 (98%)\n",
            "Test set: Accuracy: 3386/3450 (98%)\n",
            "Test set: Accuracy: 3436/3500 (98%)\n",
            "Test set: Accuracy: 3486/3550 (98%)\n",
            "Test set: Accuracy: 3536/3600 (98%)\n",
            "Test set: Accuracy: 3586/3650 (98%)\n",
            "Test set: Accuracy: 3636/3700 (98%)\n",
            "Test set: Accuracy: 3685/3750 (98%)\n",
            "Test set: Accuracy: 3734/3800 (98%)\n",
            "Test set: Accuracy: 3784/3850 (98%)\n",
            "Test set: Accuracy: 3834/3900 (98%)\n",
            "Test set: Accuracy: 3883/3950 (98%)\n",
            "Test set: Accuracy: 3933/4000 (98%)\n",
            "Test set: Accuracy: 3981/4050 (98%)\n",
            "Test set: Accuracy: 4029/4100 (98%)\n",
            "Test set: Accuracy: 4077/4150 (98%)\n",
            "Test set: Accuracy: 4126/4200 (98%)\n",
            "Test set: Accuracy: 4176/4250 (98%)\n",
            "Test set: Accuracy: 4222/4300 (98%)\n",
            "Test set: Accuracy: 4272/4350 (98%)\n",
            "Test set: Accuracy: 4322/4400 (98%)\n",
            "Test set: Accuracy: 4371/4450 (98%)\n",
            "Test set: Accuracy: 4420/4500 (98%)\n",
            "Test set: Accuracy: 4470/4550 (98%)\n",
            "Test set: Accuracy: 4520/4600 (98%)\n",
            "Test set: Accuracy: 4568/4650 (98%)\n",
            "Test set: Accuracy: 4617/4700 (98%)\n",
            "Test set: Accuracy: 4665/4750 (98%)\n",
            "Test set: Accuracy: 4714/4800 (98%)\n",
            "Test set: Accuracy: 4763/4850 (98%)\n",
            "Test set: Accuracy: 4810/4900 (98%)\n",
            "Test set: Accuracy: 4860/4950 (98%)\n",
            "Test set: Accuracy: 4907/5000 (98%)\n",
            "Test set: Accuracy: 4957/5050 (98%)\n",
            "Test set: Accuracy: 5005/5100 (98%)\n",
            "Test set: Accuracy: 5052/5150 (98%)\n",
            "Test set: Accuracy: 5101/5200 (98%)\n",
            "Test set: Accuracy: 5151/5250 (98%)\n",
            "Test set: Accuracy: 5198/5300 (98%)\n",
            "Test set: Accuracy: 5248/5350 (98%)\n",
            "Test set: Accuracy: 5298/5400 (98%)\n",
            "Test set: Accuracy: 5347/5450 (98%)\n",
            "Test set: Accuracy: 5397/5500 (98%)\n",
            "Test set: Accuracy: 5446/5550 (98%)\n",
            "Test set: Accuracy: 5494/5600 (98%)\n",
            "Test set: Accuracy: 5544/5650 (98%)\n",
            "Test set: Accuracy: 5593/5700 (98%)\n",
            "Test set: Accuracy: 5641/5750 (98%)\n",
            "Test set: Accuracy: 5687/5800 (98%)\n",
            "Test set: Accuracy: 5736/5850 (98%)\n",
            "Test set: Accuracy: 5784/5900 (98%)\n",
            "Test set: Accuracy: 5833/5950 (98%)\n",
            "Test set: Accuracy: 5883/6000 (98%)\n",
            "Test set: Accuracy: 5932/6050 (98%)\n",
            "Test set: Accuracy: 5982/6100 (98%)\n",
            "Test set: Accuracy: 6032/6150 (98%)\n",
            "Test set: Accuracy: 6082/6200 (98%)\n",
            "Test set: Accuracy: 6130/6250 (98%)\n",
            "Test set: Accuracy: 6179/6300 (98%)\n",
            "Test set: Accuracy: 6226/6350 (98%)\n",
            "Test set: Accuracy: 6275/6400 (98%)\n",
            "Test set: Accuracy: 6323/6450 (98%)\n",
            "Test set: Accuracy: 6373/6500 (98%)\n",
            "Test set: Accuracy: 6422/6550 (98%)\n",
            "Test set: Accuracy: 6472/6600 (98%)\n",
            "Test set: Accuracy: 6521/6650 (98%)\n",
            "Test set: Accuracy: 6571/6700 (98%)\n",
            "Test set: Accuracy: 6621/6750 (98%)\n",
            "Test set: Accuracy: 6671/6800 (98%)\n",
            "Test set: Accuracy: 6720/6850 (98%)\n",
            "Test set: Accuracy: 6770/6900 (98%)\n",
            "Test set: Accuracy: 6820/6950 (98%)\n",
            "Test set: Accuracy: 6870/7000 (98%)\n",
            "Test set: Accuracy: 6920/7050 (98%)\n",
            "Test set: Accuracy: 6968/7100 (98%)\n",
            "Test set: Accuracy: 7017/7150 (98%)\n",
            "Test set: Accuracy: 7065/7200 (98%)\n",
            "Test set: Accuracy: 7115/7250 (98%)\n",
            "Test set: Accuracy: 7161/7300 (98%)\n",
            "Test set: Accuracy: 7210/7350 (98%)\n",
            "Test set: Accuracy: 7259/7400 (98%)\n",
            "Test set: Accuracy: 7309/7450 (98%)\n",
            "Test set: Accuracy: 7357/7500 (98%)\n",
            "Test set: Accuracy: 7406/7550 (98%)\n",
            "Test set: Accuracy: 7456/7600 (98%)\n",
            "Test set: Accuracy: 7504/7650 (98%)\n",
            "Test set: Accuracy: 7554/7700 (98%)\n",
            "Test set: Accuracy: 7604/7750 (98%)\n",
            "Test set: Accuracy: 7652/7800 (98%)\n",
            "Test set: Accuracy: 7701/7850 (98%)\n",
            "Test set: Accuracy: 7751/7900 (98%)\n",
            "Test set: Accuracy: 7801/7950 (98%)\n",
            "Test set: Accuracy: 7851/8000 (98%)\n",
            "Test set: Accuracy: 7901/8050 (98%)\n",
            "Test set: Accuracy: 7950/8100 (98%)\n",
            "Test set: Accuracy: 7998/8150 (98%)\n",
            "Test set: Accuracy: 8046/8200 (98%)\n",
            "Test set: Accuracy: 8096/8250 (98%)\n",
            "Test set: Accuracy: 8146/8300 (98%)\n",
            "Test set: Accuracy: 8193/8350 (98%)\n",
            "Test set: Accuracy: 8242/8400 (98%)\n",
            "Test set: Accuracy: 8291/8450 (98%)\n",
            "Test set: Accuracy: 8340/8500 (98%)\n",
            "Test set: Accuracy: 8387/8550 (98%)\n",
            "Test set: Accuracy: 8433/8600 (98%)\n",
            "Test set: Accuracy: 8482/8650 (98%)\n",
            "Test set: Accuracy: 8530/8700 (98%)\n",
            "Test set: Accuracy: 8578/8750 (98%)\n",
            "Test set: Accuracy: 8627/8800 (98%)\n",
            "Test set: Accuracy: 8676/8850 (98%)\n",
            "Test set: Accuracy: 8724/8900 (98%)\n",
            "Test set: Accuracy: 8773/8950 (98%)\n",
            "Test set: Accuracy: 8823/9000 (98%)\n",
            "Test set: Accuracy: 8869/9050 (98%)\n",
            "Test set: Accuracy: 8918/9100 (98%)\n",
            "Test set: Accuracy: 8967/9150 (98%)\n",
            "Test set: Accuracy: 9016/9200 (98%)\n",
            "Test set: Accuracy: 9064/9250 (98%)\n",
            "Test set: Accuracy: 9113/9300 (98%)\n",
            "Test set: Accuracy: 9163/9350 (98%)\n",
            "Test set: Accuracy: 9213/9400 (98%)\n",
            "Test set: Accuracy: 9261/9450 (98%)\n",
            "Test set: Accuracy: 9311/9500 (98%)\n",
            "Test set: Accuracy: 9360/9550 (98%)\n",
            "Test set: Accuracy: 9407/9600 (98%)\n",
            "Test set: Accuracy: 9455/9650 (98%)\n",
            "Test set: Accuracy: 9504/9700 (98%)\n",
            "Test set: Accuracy: 9553/9750 (98%)\n",
            "Test set: Accuracy: 9603/9800 (98%)\n",
            "Test set: Accuracy: 9651/9850 (98%)\n",
            "Test set: Accuracy: 9699/9900 (98%)\n",
            "Test set: Accuracy: 9748/9950 (98%)\n",
            "Test set: Accuracy: 9792/10000 (98%)\n"
          ],
          "name": "stdout"
        }
      ]
    },
    {
      "cell_type": "markdown",
      "metadata": {
        "id": "XZw9aM5LzdRJ",
        "colab_type": "text"
      },
      "source": [
        "Et voilà! Here you are, you have learned how to do end to end secure predictions: the weights of the server's model have not leaked to the client and the server has no information about the data input nor the classification output!\n",
        "\n",
        "Regarding performance, classifying one image takes **less than 0.1 second**, approximately **33ms** on my laptop (2,7 GHz Intel Core i7, 16GB RAM). However, this is using very fast communication (all the workers are on my local machine). Performance will vary depending on how fast different workers can talk to each other."
      ]
    },
    {
      "cell_type": "markdown",
      "metadata": {
        "id": "EOImYtIfzdRJ",
        "colab_type": "text"
      },
      "source": [
        "## Conclusion\n",
        "\n",
        "You have seen how easy it is to leverage PyTorch and PySyft to perform practical Secure Machine Learning and protect users data, without having to be a crypto expert!\n",
        "\n",
        "More on this topic will come soon, including convolutional layers to properly benchmark PySyft performance with respect to other libraries, as well as private encrypted training of neural networks, which is needed when a organisation resorts to external sensitive data to train its own model. Stay tuned!\n",
        "\n",
        "If you enjoyed this and would like to join the movement toward privacy preserving, decentralized ownership of AI and the AI supply chain (data), you can do so in the following ways! \n",
        "\n",
        "### Star PySyft on GitHub\n",
        "\n",
        "The easiest way to help our community is just by starring the repositories! This helps raise awareness of the cool tools we're building.\n",
        "\n",
        "- [Star PySyft](https://github.com/OpenMined/PySyft)\n",
        "\n",
        "### Pick our tutorials on GitHub!\n",
        "\n",
        "We made really nice tutorials to get a better understanding of what Federated and Privacy-Preserving Learning should look like and how we are building the bricks for this to happen.\n",
        "\n",
        "- [Checkout the PySyft tutorials](https://github.com/OpenMined/PySyft/tree/master/examples/tutorials)\n",
        "\n",
        "\n",
        "### Join our Slack!\n",
        "\n",
        "The best way to keep up to date on the latest advancements is to join our community! \n",
        "\n",
        "- [Join slack.openmined.org](http://slack.openmined.org)\n",
        "\n",
        "### Join a Code Project!\n",
        "\n",
        "The best way to contribute to our community is to become a code contributor! If you want to start \"one off\" mini-projects, you can go to PySyft GitHub Issues page and search for issues marked `Good First Issue`.\n",
        "\n",
        "- [Good First Issue Tickets](https://github.com/OpenMined/PySyft/issues?q=is%3Aopen+is%3Aissue+label%3A%22good+first+issue%22)\n",
        "\n",
        "### Donate\n",
        "\n",
        "If you don't have time to contribute to our codebase, but would still like to lend support, you can also become a Backer on our Open Collective. All donations go toward our web hosting and other community expenses such as hackathons and meetups!\n",
        "\n",
        "- [Donate through OpenMined's Open Collective Page](https://opencollective.com/openmined)"
      ]
    },
    {
      "cell_type": "code",
      "metadata": {
        "id": "YahwfWvJzdRK",
        "colab_type": "code",
        "colab": {}
      },
      "source": [
        ""
      ],
      "execution_count": 0,
      "outputs": []
    }
  ]
}